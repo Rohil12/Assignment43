{
 "cells": [
  {
   "cell_type": "code",
   "execution_count": 2,
   "id": "585ec8c3-a74d-416f-9761-2e8bea8eedb9",
   "metadata": {},
   "outputs": [
    {
     "name": "stdout",
     "output_type": "stream",
     "text": [
      "Pearson correlation coefficient: 1.0\n",
      "P-value: 0.0\n"
     ]
    },
    {
     "data": {
      "text/plain": [
       "'Interpretation of the Result:\\n\\nr = 1: Perfect positive linear relationship. As the study time increases, exam scores increase proportionally.\\n\\nr = -1: Perfect negative linear relationship. As the study time increases, exam scores decrease proportionally.\\n\\nr = 0: No linear relationship. Study time does not predict exam scores.\\n\\n0 < r < 1: Positive linear relationship. Higher study times generally lead to higher exam scores.\\n\\n-1 < r < 0: Negative linear relationship. Higher study times generally lead to lower exam scores.'"
      ]
     },
     "execution_count": 2,
     "metadata": {},
     "output_type": "execute_result"
    }
   ],
   "source": [
    "#Q.1\n",
    "import numpy as np\n",
    "from scipy import stats\n",
    "\n",
    "# Example data\n",
    "study_hours = np.array([2, 3, 4, 5, 6, 7, 8])\n",
    "exam_scores = np.array([50, 55, 60, 65, 70, 75, 80])\n",
    "\n",
    "# Calculate the Pearson correlation coefficient\n",
    "pearson_corr, p_value = stats.pearsonr(study_hours, exam_scores)\n",
    "\n",
    "print(f\"Pearson correlation coefficient: {pearson_corr}\")\n",
    "print(f\"P-value: {p_value}\")\n",
    "\"\"\"Interpretation of the Result:\n",
    "\n",
    "r = 1: Perfect positive linear relationship. As the study time increases, exam scores increase proportionally.\n",
    "\n",
    "r = -1: Perfect negative linear relationship. As the study time increases, exam scores decrease proportionally.\n",
    "\n",
    "r = 0: No linear relationship. Study time does not predict exam scores.\n",
    "\n",
    "0 < r < 1: Positive linear relationship. Higher study times generally lead to higher exam scores.\n",
    "\n",
    "-1 < r < 0: Negative linear relationship. Higher study times generally lead to lower exam scores.\"\"\""
   ]
  },
  {
   "cell_type": "code",
   "execution_count": 7,
   "id": "be5ee38d-ec66-4885-a603-64b5d1a2b368",
   "metadata": {},
   "outputs": [
    {
     "name": "stdout",
     "output_type": "stream",
     "text": [
      "Spearman's rank correlation coefficient: 1.0\n",
      "P-value: 0.0\n"
     ]
    },
    {
     "data": {
      "text/plain": [
       "\"Interpretation:\\nSpearman's rank correlation coefficient (rho) ranges from -1 to 1.\\n\\nrho = 1: Perfect positive monotonic relationship.\\n\\nrho = -1: Perfect negative monotonic relationship.\\n\\nrho = 0: No monotonic relationship.\\n\\nThe p-value indicates the statistical significance of the observed correlation. A low p-value (typically < 0.05) suggests that the observed correlation is statistically significant.\""
      ]
     },
     "execution_count": 7,
     "metadata": {},
     "output_type": "execute_result"
    }
   ],
   "source": [
    "# Q.2\n",
    "import numpy as np\n",
    "from scipy import stats\n",
    "\n",
    "# Example data\n",
    "sleep_hours = np.array([6, 7, 8, 5, 6, 7, 9])\n",
    "job_satisfaction = np.array([4, 5, 6, 3, 4, 5, 7])\n",
    "\n",
    "# Calculate the Spearman's rank correlation coefficient\n",
    "spearman_corr, p_value = stats.spearmanr(sleep_hours, job_satisfaction)\n",
    "\n",
    "print(f\"Spearman's rank correlation coefficient: {spearman_corr}\")\n",
    "print(f\"P-value: {p_value}\")\n",
    "\n",
    "\"\"\"Interpretation:\n",
    "Spearman's rank correlation coefficient (rho) ranges from -1 to 1.\n",
    "\n",
    "rho = 1: Perfect positive monotonic relationship.\n",
    "\n",
    "rho = -1: Perfect negative monotonic relationship.\n",
    "\n",
    "rho = 0: No monotonic relationship.\n",
    "\n",
    "The p-value indicates the statistical significance of the observed correlation. A low p-value (typically < 0.05) suggests that the observed correlation is statistically significant.\"\"\""
   ]
  },
  {
   "cell_type": "code",
   "execution_count": 8,
   "id": "80be2a66-53f2-4914-b3fc-32c0c68c4103",
   "metadata": {},
   "outputs": [
    {
     "name": "stdout",
     "output_type": "stream",
     "text": [
      "Pearson correlation coefficient: 0.2294041870157313\n",
      "Pearson p-value: 0.10903232714337559\n",
      "Spearman's rank correlation coefficient: 0.2263435524810239\n",
      "Spearman p-value: 0.11396961140648249\n"
     ]
    }
   ],
   "source": [
    "# Q.3\n",
    "import numpy as np\n",
    "from scipy import stats\n",
    "\n",
    "# Example data for 50 participants\n",
    "np.random.seed(0)  # For reproducibility\n",
    "exercise_hours = np.random.randint(1, 10, 50)  # Random number of hours of exercise per week\n",
    "BMI = np.random.normal(25, 5, 50)  # Random BMI values\n",
    "\n",
    "# Calculate the Pearson correlation coefficient\n",
    "pearson_corr, pearson_p_value = stats.pearsonr(exercise_hours, BMI)\n",
    "print(f\"Pearson correlation coefficient: {pearson_corr}\")\n",
    "print(f\"Pearson p-value: {pearson_p_value}\")\n",
    "\n",
    "# Calculate the Spearman's rank correlation coefficient\n",
    "spearman_corr, spearman_p_value = stats.spearmanr(exercise_hours, BMI)\n",
    "print(f\"Spearman's rank correlation coefficient: {spearman_corr}\")\n",
    "print(f\"Spearman p-value: {spearman_p_value}\")\n"
   ]
  },
  {
   "cell_type": "code",
   "execution_count": 9,
   "id": "8e06ff6c-9606-4654-adec-a882957e8947",
   "metadata": {},
   "outputs": [
    {
     "name": "stdout",
     "output_type": "stream",
     "text": [
      "Pearson correlation coefficient: -0.13939880975744395\n",
      "P-value: 0.33429839145388274\n"
     ]
    }
   ],
   "source": [
    "# Q.4\n",
    "import numpy as np\n",
    "from scipy import stats\n",
    "\n",
    "# Example data for 50 participants\n",
    "np.random.seed(1)  # For reproducibility\n",
    "tv_hours = np.random.randint(1, 5, 50)  # Random hours of TV watching per day\n",
    "physical_activity = np.random.randint(30, 120, 50)  # Random physical activity in minutes per day\n",
    "\n",
    "# Calculate the Pearson correlation coefficient\n",
    "pearson_corr, p_value = stats.pearsonr(tv_hours, physical_activity)\n",
    "\n",
    "print(f\"Pearson correlation coefficient: {pearson_corr}\")\n",
    "print(f\"P-value: {p_value}\")\n"
   ]
  },
  {
   "cell_type": "code",
   "execution_count": 13,
   "id": "24e86b46-00a7-453e-84fb-c044f75b7b67",
   "metadata": {},
   "outputs": [
    {
     "name": "stdout",
     "output_type": "stream",
     "text": [
      "Encoded preferences: [0 2 1 0 2 0]\n",
      "Spearman's rank correlation coefficient: -0.06172133998483677\n",
      "Spearman p-value: 0.9075355544798588\n"
     ]
    }
   ],
   "source": [
    "#Q.5\n",
    "import numpy as np\n",
    "from scipy import stats\n",
    "from sklearn.preprocessing import LabelEncoder\n",
    "\n",
    "# Example data\n",
    "age = np.array([21, 22, 25, 29, 30, 35])\n",
    "preference = np.array(['coke', 'pepsi', 'mountain dew', 'coke', 'pepsi', 'coke'])\n",
    "\n",
    "# Convert categorical preferences to numerical labels\n",
    "label_encoder = LabelEncoder()\n",
    "preference_numeric = label_encoder.fit_transform(preference)\n",
    "\n",
    "print(f\"Encoded preferences: {preference_numeric}\")\n",
    "\n",
    "# Calculate Spearman's rank correlation coefficient\n",
    "spearman_corr, spearman_p_value = stats.spearmanr(age, preference_numeric)\n",
    "print(f\"Spearman's rank correlation coefficient: {spearman_corr}\")\n",
    "print(f\"Spearman p-value: {spearman_p_value}\")\n"
   ]
  },
  {
   "cell_type": "code",
   "execution_count": 14,
   "id": "a943713c-2b97-4539-b027-18b672d7b982",
   "metadata": {},
   "outputs": [
    {
     "name": "stdout",
     "output_type": "stream",
     "text": [
      "Pearson correlation coefficient: -0.04502320918051644\n",
      "P-value: 0.8132438402745688\n"
     ]
    }
   ],
   "source": [
    "#Q.6\n",
    "import numpy as np\n",
    "from scipy import stats\n",
    "\n",
    "# Example data for 30 sales representatives\n",
    "np.random.seed(42)  # For reproducibility\n",
    "sales_calls_per_day = np.random.randint(5, 15, 30)  # Random number of sales calls per day\n",
    "sales_per_week = np.random.randint(10, 50, 30)  # Random number of sales per week\n",
    "\n",
    "# Calculate the Pearson correlation coefficient\n",
    "pearson_corr, p_value = stats.pearsonr(sales_calls_per_day, sales_per_week)\n",
    "print(f\"Pearson correlation coefficient: {pearson_corr}\")\n",
    "print(f\"P-value: {p_value}\")\n"
   ]
  },
  {
   "cell_type": "code",
   "execution_count": null,
   "id": "9865d457-cf4f-47ec-aa92-68f605b50297",
   "metadata": {},
   "outputs": [],
   "source": []
  }
 ],
 "metadata": {
  "kernelspec": {
   "display_name": "Python 3 (ipykernel)",
   "language": "python",
   "name": "python3"
  },
  "language_info": {
   "codemirror_mode": {
    "name": "ipython",
    "version": 3
   },
   "file_extension": ".py",
   "mimetype": "text/x-python",
   "name": "python",
   "nbconvert_exporter": "python",
   "pygments_lexer": "ipython3",
   "version": "3.11.3"
  }
 },
 "nbformat": 4,
 "nbformat_minor": 5
}
